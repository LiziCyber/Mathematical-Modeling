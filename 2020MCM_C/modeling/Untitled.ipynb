{
 "cells": [
  {
   "cell_type": "code",
   "execution_count": 16,
   "metadata": {},
   "outputs": [],
   "source": [
    "from MHP import MHP\n",
    "import numpy as np"
   ]
  },
  {
   "cell_type": "code",
   "execution_count": 17,
   "metadata": {},
   "outputs": [
    {
     "name": "stdout",
     "output_type": "stream",
     "text": [
      "Max eigenvalue: 0.50000\n"
     ]
    }
   ],
   "source": [
    "P = MHP()"
   ]
  },
  {
   "cell_type": "code",
   "execution_count": 18,
   "metadata": {},
   "outputs": [
    {
     "name": "stdout",
     "output_type": "stream",
     "text": [
      "Max eigenvalue: 0.10000\n"
     ]
    },
    {
     "data": {
      "image/png": "[encoded data removed]",
      "text/plain": [
       "<Figure size 576x288 with 4 Axes>"
      ]
     },
     "metadata": {
      "needs_background": "light"
     },
     "output_type": "display_data"
    }
   ],
   "source": [
    "m = np.array([0.2, 0.0])\n",
    "a = np.array([[0.1, 0.0], \n",
    "              [0.9, 0.0],\n",
    "             ])\n",
    "w = 3.1\n",
    "\n",
    "P = MHP(mu=m, alpha=a, omega=w)\n",
    "P.generate_seq(60)\n",
    "P.plot_rates()"
   ]
  },
  {
   "cell_type": "code",
   "execution_count": 19,
   "metadata": {},
   "outputs": [],
   "source": [
    "P.data=np.array(P.data)"
   ]
  },
  {
   "cell_type": "code",
   "execution_count": 14,
   "metadata": {},
   "outputs": [
    {
     "name": "stdout",
     "output_type": "stream",
     "text": [
      "After ITER 0 (old: -10000.000 new: -1.106)\n",
      " terms -9.8827, 7.8748, 11.1252\n",
      "After ITER 10 (old: -1.106 new: -1.127)\n",
      " terms -11.4040, 8.9827, 10.0173\n",
      "Reached stopping criterion. (Old: -1.127 New: -1.126)\n"
     ]
    },
    {
     "data": {
      "text/plain": [
       "(array([[1.06571517e-04, 1.33511210e-10],\n",
       "        [1.11110988e+00, 1.10558407e-06]]),\n",
       " array([1.84518530e-01, 6.63145538e-19]))"
      ]
     },
     "execution_count": 14,
     "metadata": {},
     "output_type": "execute_result"
    }
   ],
   "source": [
    "mhat = np.random.uniform(0,1, size=2)\n",
    "ahat = np.random.uniform(0,1, size=(2,2))\n",
    "w = 2.\n",
    "\n",
    "P.EM(ahat, mhat, w)"
   ]
  },
  {
   "cell_type": "code",
   "execution_count": null,
   "metadata": {},
   "outputs": [],
   "source": []
  }
 ],
 "metadata": {
  "kernelspec": {
   "display_name": "Python 3",
   "language": "python",
   "name": "python3"
  },
  "language_info": {
   "codemirror_mode": {
    "name": "ipython",
    "version": 3
   },
   "file_extension": ".py",
   "mimetype": "text/x-python",
   "name": "python",
   "nbconvert_exporter": "python",
   "pygments_lexer": "ipython3",
   "version": "3.7.4"
  }
 },
 "nbformat": 4,
 "nbformat_minor": 4
}
