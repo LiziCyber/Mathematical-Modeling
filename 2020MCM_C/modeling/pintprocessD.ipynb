{
 "cells": [
  {
   "cell_type": "code",
   "execution_count": 1,
   "metadata": {},
   "outputs": [],
   "source": [
    "from MHP import MHP\n",
    "import numpy as np\n",
    "import pandas as pd\n",
    "import os\n",
    "import datetime\n",
    "from matplotlib import pyplot as plt"
   ]
  },
  {
   "cell_type": "code",
   "execution_count": 2,
   "metadata": {},
   "outputs": [],
   "source": [
    "DATA_DIR = '.\\data\\enhanced'\n",
    "hairdryer = 'hair_dryer_finished.csv'\n",
    "microwave = 'microwave_finished.csv'\n",
    "pacifier = 'pacifier_finished.csv'"
   ]
  },
  {
   "cell_type": "code",
   "execution_count": 3,
   "metadata": {},
   "outputs": [],
   "source": [
    "pdata = pd.read_csv(os.path.join(DATA_DIR, pacifier))\n",
    "hdata = pd.read_csv(os.path.join(DATA_DIR, hairdryer))\n",
    "mdata = pd.read_csv(os.path.join(DATA_DIR, microwave))\n",
    "\n",
    "pdata = pdata.dropna(axis=0,how='any').drop(pdata.tail(1).index)\n",
    "pdata.review_date = pd.to_datetime(pdata.review_date, format='%m/%d/%Y')\n",
    "hdata = hdata.dropna(axis=0,how='any')\n",
    "hdata.review_date = pd.to_datetime(hdata.review_date, format='%m/%d/%Y')\n",
    "mdata = mdata.dropna(axis=0,how='any')\n",
    "mdata.review_date = pd.to_datetime(mdata.review_date, format='%m/%d/%Y')"
   ]
  },
  {
   "cell_type": "code",
   "execution_count": 4,
   "metadata": {},
   "outputs": [],
   "source": [
    "pdata.sort_values('review_date', inplace=True)\n",
    "hdata.sort_values('review_date', inplace=True)\n",
    "mdata.sort_values('review_date', inplace=True)"
   ]
  },
  {
   "cell_type": "code",
   "execution_count": 72,
   "metadata": {},
   "outputs": [
    {
     "name": "stderr",
     "output_type": "stream",
     "text": [
      "D:\\tools\\Anaconda3\\lib\\site-packages\\ipykernel_launcher.py:6: UserWarning: Boolean Series key will be reindexed to match DataFrame index.\n",
      "  \n"
     ]
    }
   ],
   "source": [
    "dataset = hdata\n",
    "\n",
    "product = dataset.product_title.value_counts().index[0]\n",
    "subset = dataset[dataset.product_title==product]\n",
    "\n",
    "subset = subset[dataset.tech==1]\n",
    "subset = subset[(subset.star_rating==5)|(subset.star_rating==1)]\n",
    "\n",
    "subset['relative'] = [(x - subset.iloc[0]['review_date']).days for x in subset['review_date']]\n",
    "subset['type'] = (subset.star_rating==5).astype(int)\n",
    "data = subset[['relative', 'type']]\n",
    "data = np.array(data)"
   ]
  },
  {
   "cell_type": "code",
   "execution_count": 75,
   "metadata": {},
   "outputs": [
    {
     "name": "stdout",
     "output_type": "stream",
     "text": [
      "Max eigenvalue: 0.50000\n"
     ]
    }
   ],
   "source": [
    "P = MHP()\n",
    "P.data = data\n",
    "w = 0.1\n",
    "mhat = np.random.uniform(0,1, size=2)\n",
    "ahat = np.random.uniform(0,1, size=(2,2))\n",
    "alpha, mu, ll = P.EM(ahat, mhat, w, epsilon=0.001, verbose=False)"
   ]
  },
  {
   "cell_type": "code",
   "execution_count": 77,
   "metadata": {},
   "outputs": [
    {
     "data": {
      "text/plain": [
       "(array([[0.05296118, 0.09646658],\n",
       "        [0.00618119, 0.69003237]]), array([0.00122746, 0.05187407]))"
      ]
     },
     "execution_count": 77,
     "metadata": {},
     "output_type": "execute_result"
    }
   ],
   "source": [
    "alpha, mu"
   ]
  },
  {
   "cell_type": "code",
   "execution_count": null,
   "metadata": {},
   "outputs": [],
   "source": []
  }
 ],
 "metadata": {
  "kernelspec": {
   "display_name": "Python 3",
   "language": "python",
   "name": "python3"
  },
  "language_info": {
   "codemirror_mode": {
    "name": "ipython",
    "version": 3
   },
   "file_extension": ".py",
   "mimetype": "text/x-python",
   "name": "python",
   "nbconvert_exporter": "python",
   "pygments_lexer": "ipython3",
   "version": "3.7.4"
  }
 },
 "nbformat": 4,
 "nbformat_minor": 4
}
